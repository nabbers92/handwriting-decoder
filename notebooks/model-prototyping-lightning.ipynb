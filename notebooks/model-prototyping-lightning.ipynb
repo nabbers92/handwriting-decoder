{
 "cells": [
  {
   "cell_type": "code",
   "execution_count": 1,
   "id": "adb5f9f7-e716-4e84-b0f8-93c0dfd77c25",
   "metadata": {},
   "outputs": [],
   "source": [
    "import os\n",
    "import torch\n",
    "import pickle\n",
    "import numpy as np\n",
    "from torch import nn\n",
    "import torch.nn.functional as F\n",
    "import pytorch_lightning as pl\n",
    "from torch.utils.data import random_split, Dataset, DataLoader\n",
    "torch.set_float32_matmul_precision('high')"
   ]
  },
  {
   "cell_type": "code",
   "execution_count": 2,
   "id": "151666f1-3a4a-46de-ad61-ef1b7e255ce7",
   "metadata": {
    "tags": []
   },
   "outputs": [],
   "source": [
    "class HandwritingDataset(Dataset):\n",
    "    def __init__(self, x, y, z):\n",
    "        self.x = x.clone().detach()\n",
    "        self.y = y.clone().detach()\n",
    "        self.z = z.clone().detach()\n",
    "        \n",
    "    def __getitem__(self, index):\n",
    "        return self.x[index], self.y[index], self.z[index]\n",
    "    \n",
    "    def __len__(self):\n",
    "        return len(self.x)\n",
    "\n",
    "class HandwritingDataModule(pl.LightningDataModule):\n",
    "    def __init__(self, dataDict, batch_size: int = 32):\n",
    "        super(HandwritingDataModule, self).__init__()\n",
    "        self.dataDict = dataDict\n",
    "        self.batch_size = batch_size\n",
    "\n",
    "    def setup(self, stage: str):\n",
    "        self.x = torch.tensor(self.dataDict['inputs'], dtype=torch.float)\n",
    "        self.y = torch.tensor(self.dataDict['charLabels'], dtype=torch.float)\n",
    "        self.z = torch.tensor(self.dataDict['charStarts'], dtype=torch.float)\n",
    "        \n",
    "        data_full = HandwritingDataset(self.x, self.y, self.z)\n",
    "        \n",
    "        if stage == \"fit\":\n",
    "            self.train_dataset, self.val_dataset = random_split(data_full, [0.9, 0.1])\n",
    "        \n",
    "        if stage == \"test\":\n",
    "            self.test_dataset = data_full\n",
    "\n",
    "    def train_dataloader(self):\n",
    "        return DataLoader(self.train_dataset, batch_size=self.batch_size, num_workers=24)\n",
    "\n",
    "#     def val_dataloader(self):\n",
    "#         return DataLoader(self.val_dataset, batch_size=self.batch_size, num_workers=24)\n",
    "\n",
    "#     def test_dataloader(self):\n",
    "#         return DataLoader(self.test_dataset, batch_size=self.batch_size, num_workers=24)"
   ]
  },
  {
   "cell_type": "code",
   "execution_count": 3,
   "id": "c1bbd873-8e25-4637-b16b-7f0d719fe0cc",
   "metadata": {
    "tags": []
   },
   "outputs": [
    {
     "name": "stdout",
     "output_type": "stream",
     "text": [
      "dict_keys(['inputs', 'charLabels', 'charStarts'])\n"
     ]
    }
   ],
   "source": [
    "with open('handwriting.dat', 'rb') as file:\n",
    "    dataDict = pickle.load(file)\n",
    "    \n",
    "print(dataDict.keys())"
   ]
  },
  {
   "cell_type": "code",
   "execution_count": 8,
   "id": "728b5c75-5fce-4097-91c1-6410752ff366",
   "metadata": {},
   "outputs": [],
   "source": [
    "class HandwritingGRU(pl.LightningModule):\n",
    "    def __init__(self, input_size, hidden_size, num_chars, reg_strength, lr):\n",
    "        super(HandwritingGRU, self).__init__()\n",
    "        self.gru = nn.GRU(input_size, hidden_size, num_layers=2, batch_first=True)\n",
    "        self.fc_y = nn.Linear(hidden_size, num_chars)\n",
    "        self.fc_z = nn.Linear(hidden_size, 1)\n",
    "        self.reg_strength = reg_strength\n",
    "        self.learning_rate = lr\n",
    "        \n",
    "    def forward(self, x, h=None):\n",
    "        out, h = self.gru(x, h)\n",
    "        y_logits = self.fc_y(out)\n",
    "        z_logits = self.fc_z(out)\n",
    "        yhat = torch.softmax(y_logits, dim=0)\n",
    "        zhat = torch.tanh(z_logits)\n",
    "        return yhat, zhat, h\n",
    "    \n",
    "    def training_step(self, batch, batch_idx):\n",
    "        x, y, z = batch\n",
    "        yhat, zhat, h = self(x)\n",
    "        reg_loss = self.reg_strength * torch.norm(self.gru.weight_hh_l0) ** 2\n",
    "        ce_loss = F.cross_entropy(yhat, y)\n",
    "        mse_loss = F.mse_loss(yhat, y)\n",
    "        loss = reg_loss + ce_loss + mse_loss\n",
    "        self.log('reg_loss', reg_loss, on_step=True)\n",
    "        self.log('ce_loss', ce_loss, on_step=True)\n",
    "        self.log('mse_loss', mse_loss, on_step=True)\n",
    "        self.log('validation_loss', loss, on_step=True)\n",
    "        return loss\n",
    "    \n",
    "#     def validation_step(self, batch, batch_idx):\n",
    "#         x, y, z = batch\n",
    "#         yhat, zhat, h = self(x, h)\n",
    "#         reg_loss = self.reg_strength * torch.norm(self.gru.weight_hh_l0) ** 2\n",
    "#         ce_loss = F.cross_entropy(yhat, y)\n",
    "#         mse_loss = F.mse_loss(yhat, y)\n",
    "#         loss = reg_loss + ce_loss + mse_loss\n",
    "#         self.log('reg_loss', reg_loss, on_step=True)\n",
    "#         self.log('ce_loss', ce_loss, on_step=True)\n",
    "#         self.log('mse_loss', mse_loss, on_step=True)\n",
    "#         self.log('val_loss', loss, on_step=True)\n",
    "    \n",
    "    def configure_optimizers(self):\n",
    "        return torch.optim.Adam(self.parameters(), lr=self.learning_rate)"
   ]
  },
  {
   "cell_type": "code",
   "execution_count": 9,
   "id": "4eaf5c54-d355-4694-be40-65bc328b0492",
   "metadata": {},
   "outputs": [
    {
     "name": "stdout",
     "output_type": "stream",
     "text": [
      "HandwritingGRU(\n",
      "  (gru): GRU(192, 512, num_layers=2, batch_first=True)\n",
      "  (fc_y): Linear(in_features=512, out_features=31, bias=True)\n",
      "  (fc_z): Linear(in_features=512, out_features=1, bias=True)\n",
      ")\n"
     ]
    }
   ],
   "source": [
    "model = HandwritingGRU(input_size=192, hidden_size=512, num_chars=31, reg_strength=0.001, lr=0.01)\n",
    "dm = HandwritingDataModule(dataDict)\n",
    "dm.setup(stage=\"fit\")\n",
    "print(model)"
   ]
  },
  {
   "cell_type": "code",
   "execution_count": 10,
   "id": "dc3cd34b-d992-44dd-b907-c1076f01b384",
   "metadata": {
    "tags": []
   },
   "outputs": [
    {
     "name": "stderr",
     "output_type": "stream",
     "text": [
      "GPU available: True (cuda), used: True\n",
      "TPU available: False, using: 0 TPU cores\n",
      "IPU available: False, using: 0 IPUs\n",
      "HPU available: False, using: 0 HPUs\n",
      "LOCAL_RANK: 0 - CUDA_VISIBLE_DEVICES: [0]\n",
      "\n",
      "  | Name | Type   | Params\n",
      "--------------------------------\n",
      "0 | gru  | GRU    | 2.7 M \n",
      "1 | fc_y | Linear | 15.9 K\n",
      "2 | fc_z | Linear | 513   \n",
      "--------------------------------\n",
      "2.7 M     Trainable params\n",
      "0         Non-trainable params\n",
      "2.7 M     Total params\n",
      "10.707    Total estimated model params size (MB)\n"
     ]
    },
    {
     "data": {
      "application/vnd.jupyter.widget-view+json": {
       "model_id": "7a6a78419ee341f1b9b548ea920a8300",
       "version_major": 2,
       "version_minor": 0
      },
      "text/plain": [
       "Training: 0it [00:00, ?it/s]"
      ]
     },
     "metadata": {},
     "output_type": "display_data"
    },
    {
     "name": "stderr",
     "output_type": "stream",
     "text": [
      "/home/cmcnabb/mambaforge/envs/hw/lib/python3.10/site-packages/pytorch_lightning/trainer/call.py:48: UserWarning: Detected KeyboardInterrupt, attempting graceful shutdown...\n",
      "  rank_zero_warn(\"Detected KeyboardInterrupt, attempting graceful shutdown...\")\n"
     ]
    }
   ],
   "source": [
    "trainer = pl.Trainer(accelerator='gpu', devices=1, max_epochs=5)\n",
    "trainer.fit(model, datamodule=dm)"
   ]
  },
  {
   "cell_type": "code",
   "execution_count": null,
   "id": "364e6eb9-9399-47df-930e-83079aa8f446",
   "metadata": {},
   "outputs": [],
   "source": []
  }
 ],
 "metadata": {
  "kernelspec": {
   "display_name": "Python 3 (ipykernel)",
   "language": "python",
   "name": "python3"
  },
  "language_info": {
   "codemirror_mode": {
    "name": "ipython",
    "version": 3
   },
   "file_extension": ".py",
   "mimetype": "text/x-python",
   "name": "python",
   "nbconvert_exporter": "python",
   "pygments_lexer": "ipython3",
   "version": "3.10.9"
  }
 },
 "nbformat": 4,
 "nbformat_minor": 5
}
